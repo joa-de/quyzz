{
 "cells": [
  {
   "cell_type": "code",
   "execution_count": 1,
   "metadata": {},
   "outputs": [
    {
     "name": "stdout",
     "output_type": "stream",
     "text": [
      "Current Directory: c:\\Users\\djoassi\\OneDrive\\dev\\latijn_game\\z_playground\n",
      "Parent Directory: c:\\Users\\djoassi\\OneDrive\\dev\\latijn_game\n",
      "Current Directory: c:\\Users\\djoassi\\OneDrive\\dev\\latijn_game\n"
     ]
    }
   ],
   "source": [
    "import os\n",
    "import sys\n",
    "import pandas as pd\n",
    "from datetime import datetime\n",
    "from pathlib import Path\n",
    "\n",
    "\n",
    "# Get the current working directory\n",
    "current_dir = Path.cwd()\n",
    "print(\"Current Directory:\", current_dir)\n",
    "\n",
    "# Get the parent directory\n",
    "parent_dir = current_dir.parent\n",
    "print(\"Parent Directory:\", parent_dir)\n",
    "# Change the working directory to the parent directory\n",
    "\n",
    "os.chdir(parent_dir)\n",
    "\n",
    "# Verify the change\n",
    "print(\"Current Directory:\", Path.cwd())\n",
    "\n",
    "from score_manager import ScoreManager\n",
    "\n",
    "\n",
    "filename = \"player_scores.json\"\n",
    "sc_ma = ScoreManager(filename)\n",
    "scores = sc_ma._load_scores()\n"
   ]
  },
  {
   "cell_type": "code",
   "execution_count": 2,
   "metadata": {},
   "outputs": [
    {
     "name": "stdout",
     "output_type": "stream",
     "text": [
      "['0', '1', '2', '3', '4']\n",
      "['0', '1', '2', '3', '4']\n"
     ]
    }
   ],
   "source": [
    "\n",
    "\n",
    "player_levels = {}\n",
    "for player in scores:\n",
    "    player_levels[player] = []\n",
    "    for vocab in scores[player][\"vocabularies\"]:\n",
    "        for level in scores[player][\"vocabularies\"][vocab][\"levels\"]:\n",
    "            if level not in player_levels[player]:\n",
    "                player_levels[player].append(level)\n",
    "\n",
    "    print(sorted(player_levels[player], key=int))\n",
    "\n"
   ]
  },
  {
   "cell_type": "code",
   "execution_count": 3,
   "metadata": {},
   "outputs": [
    {
     "name": "stdout",
     "output_type": "stream",
     "text": [
      "le mur\n"
     ]
    }
   ],
   "source": [
    "filename = 'french-translations.txt'\n",
    "\n",
    "df = pd.read_csv(parent_dir / \"languages\" /filename, sep='|', header=None)\n",
    "\n",
    "df_dict = df.set_index(0).to_dict()[1]\n",
    "\n",
    "print(df_dict[132])"
   ]
  },
  {
   "cell_type": "code",
   "execution_count": 3,
   "metadata": {},
   "outputs": [
    {
     "name": "stdout",
     "output_type": "stream",
     "text": [
      "Downloading DejaVu Fonts...\n",
      "Extracting fonts...\n",
      "Copied DejaVuSans.ttf\n",
      "Copied DejaVuSans-Bold.ttf\n",
      "Copied DejaVuSans-Oblique.ttf\n",
      "Copied DejaVuSans-BoldOblique.ttf\n",
      "Font download and extraction complete!\n"
     ]
    }
   ],
   "source": [
    "import requests\n",
    "import os\n",
    "\n",
    "def download_dejavu_fonts(directory='fonts'):\n",
    "    # Create fonts directory if it doesn't exist\n",
    "    os.makedirs(directory, exist_ok=True)\n",
    "    \n",
    "    # Base URL for DejaVu fonts\n",
    "    base_url = \"https://sourceforge.net/projects/dejavu/files/dejavu/2.37/dejavu-fonts-ttf-2.37.tar.bz2\"\n",
    "    \n",
    "    # Download the archive\n",
    "    print(\"Downloading DejaVu Fonts...\")\n",
    "    response = requests.get(base_url, stream=True)\n",
    "    \n",
    "    # Save the downloaded archive\n",
    "    archive_path = os.path.join(directory, 'dejavu-fonts.tar.bz2')\n",
    "    with open(archive_path, 'wb') as f:\n",
    "        for chunk in response.iter_content(chunk_size=8192):\n",
    "            f.write(chunk)\n",
    "    \n",
    "    # Extract the archive (requires 'tarfile' module)\n",
    "    import tarfile\n",
    "    \n",
    "    print(\"Extracting fonts...\")\n",
    "    with tarfile.open(archive_path, 'r:bz2') as tar:\n",
    "        tar.extractall(path=directory)\n",
    "    \n",
    "    # Copy specific font files to the fonts directory\n",
    "    import shutil\n",
    "    \n",
    "    font_files = [\n",
    "        'DejaVuSans.ttf',\n",
    "        'DejaVuSans-Bold.ttf',\n",
    "        'DejaVuSans-Oblique.ttf',\n",
    "        'DejaVuSans-BoldOblique.ttf'\n",
    "    ]\n",
    "    \n",
    "    source_dir = os.path.join(directory, 'dejavu-fonts-ttf-2.37', 'ttf')\n",
    "    \n",
    "    for font in font_files:\n",
    "        source_path = os.path.join(source_dir, font)\n",
    "        dest_path = os.path.join(directory, font)\n",
    "        \n",
    "        if os.path.exists(source_path):\n",
    "            shutil.copy(source_path, dest_path)\n",
    "            print(f\"Copied {font}\")\n",
    "    \n",
    "    print(\"Font download and extraction complete!\")\n",
    "\n",
    "# Run the download function\n",
    "download_dejavu_fonts()"
   ]
  },
  {
   "cell_type": "code",
   "execution_count": 2,
   "metadata": {},
   "outputs": [],
   "source": [
    "# install font\n",
    "\n",
    "\n",
    "import os\n",
    "import winreg\n",
    "\n",
    "def install_font_windows(font_path):\n",
    "    try:\n",
    "        # Windows font directory\n",
    "        windir = os.getenv('WINDIR')\n",
    "        font_dir = os.path.join(windir, 'Fonts')\n",
    "        \n",
    "        # Copy font to Windows Fonts directory\n",
    "        font_filename = os.path.basename(font_path)\n",
    "        dest_path = os.path.join(font_dir, font_filename)\n",
    "        \n",
    "        # Check if font already exists\n",
    "        if not os.path.exists(dest_path):\n",
    "            import shutil\n",
    "            shutil.copy(font_path, dest_path)\n",
    "        \n",
    "        # Add font to registry\n",
    "        key_path = r'SOFTWARE\\Microsoft\\Windows NT\\CurrentVersion\\Fonts'\n",
    "        try:\n",
    "            key = winreg.OpenKey(winreg.HKEY_LOCAL_MACHINE, key_path, 0, winreg.KEY_ALL_ACCESS)\n",
    "        except WindowsError:\n",
    "            key = winreg.CreateKey(winreg.HKEY_LOCAL_MACHINE, key_path)\n",
    "        \n",
    "        # Register the font\n",
    "        font_name = os.path.splitext(font_filename)[0]\n",
    "        winreg.SetValueEx(key, f'{font_name} (TrueType)', 0, winreg.REG_SZ, font_filename)\n",
    "        \n",
    "        winreg.CloseKey(key)\n",
    "        print(f\"Font {font_filename} installed successfully\")\n",
    "        return True\n",
    "    \n",
    "    except Exception as e:\n",
    "        print(f\"Error installing font: {e}\")\n",
    "        return False"
   ]
  },
  {
   "cell_type": "code",
   "execution_count": null,
   "metadata": {},
   "outputs": [],
   "source": []
  },
  {
   "cell_type": "code",
   "execution_count": null,
   "metadata": {},
   "outputs": [],
   "source": []
  }
 ],
 "metadata": {
  "kernelspec": {
   "display_name": "Python 3",
   "language": "python",
   "name": "python3"
  },
  "language_info": {
   "codemirror_mode": {
    "name": "ipython",
    "version": 3
   },
   "file_extension": ".py",
   "mimetype": "text/x-python",
   "name": "python",
   "nbconvert_exporter": "python",
   "pygments_lexer": "ipython3",
   "version": "3.11.9"
  }
 },
 "nbformat": 4,
 "nbformat_minor": 2
}
