{
 "cells": [
  {
   "cell_type": "code",
   "execution_count": 1,
   "metadata": {},
   "outputs": [
    {
     "name": "stdout",
     "output_type": "stream",
     "text": [
      "Current Directory: c:\\Users\\djoassi\\OneDrive\\dev\\latijn_game\\playground\n",
      "Parent Directory: c:\\Users\\djoassi\\OneDrive\\dev\\latijn_game\n",
      "Current Directory: c:\\Users\\djoassi\\OneDrive\\dev\\latijn_game\n"
     ]
    }
   ],
   "source": [
    "import os\n",
    "import sys\n",
    "from datetime import datetime\n",
    "from pathlib import Path\n",
    "\n",
    "\n",
    "# Get the current working directory\n",
    "current_dir = Path.cwd()\n",
    "print(\"Current Directory:\", current_dir)\n",
    "\n",
    "# Get the parent directory\n",
    "parent_dir = current_dir.parent\n",
    "print(\"Parent Directory:\", parent_dir)\n",
    "# Change the working directory to the parent directory\n",
    "\n",
    "os.chdir(parent_dir)\n",
    "\n",
    "# Verify the change\n",
    "print(\"Current Directory:\", Path.cwd())\n",
    "\n",
    "from score_manager import ScoreManager\n",
    "\n",
    "\n",
    "filename = \"player_scores.json\"\n",
    "sc_ma = ScoreManager(filename)\n",
    "scores = sc_ma._load_scores()\n"
   ]
  },
  {
   "cell_type": "code",
   "execution_count": 20,
   "metadata": {},
   "outputs": [
    {
     "name": "stdout",
     "output_type": "stream",
     "text": [
      "['0', '1', '2', '3', '4']\n",
      "['1', '2', '3', '4']\n"
     ]
    }
   ],
   "source": [
    "\n",
    "\n",
    "player_levels = {}\n",
    "for player in scores:\n",
    "    player_levels[player] = []\n",
    "    for vocab in scores[player][\"vocabularies\"]:\n",
    "        for level in scores[player][\"vocabularies\"][vocab][\"levels\"]:\n",
    "            if level not in player_levels[player]:\n",
    "                player_levels[player].append(level)\n",
    "\n",
    "    print(sorted(player_levels[player], key=int))\n",
    "\n"
   ]
  }
 ],
 "metadata": {
  "kernelspec": {
   "display_name": "Python 3",
   "language": "python",
   "name": "python3"
  },
  "language_info": {
   "codemirror_mode": {
    "name": "ipython",
    "version": 3
   },
   "file_extension": ".py",
   "mimetype": "text/x-python",
   "name": "python",
   "nbconvert_exporter": "python",
   "pygments_lexer": "ipython3",
   "version": "3.11.9"
  }
 },
 "nbformat": 4,
 "nbformat_minor": 2
}
